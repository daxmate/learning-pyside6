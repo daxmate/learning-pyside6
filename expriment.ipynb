{
 "cells": [
  {
   "metadata": {},
   "cell_type": "code",
   "outputs": [],
   "execution_count": null,
   "source": [
    "from PyQt6.QtWidgets import QApplication, QWidget, QPushButton, QVBoxLayout\n",
    "\n",
    "# 创建应用程序\n",
    "app = QApplication([])\n",
    "\n",
    "# 创建主窗口\n",
    "window = QWidget()\n",
    "window.setWindowTitle(\"Children Example\")\n",
    "\n",
    "# 创建布局\n",
    "layout = QVBoxLayout()\n",
    "\n",
    "# 创建几个按钮并添加到布局中\n",
    "button1 = QPushButton(\"Button 1\")\n",
    "button2 = QPushButton(\"Button 2\")\n",
    "button3 = QPushButton(\"Button 3\")\n",
    "\n",
    "layout.addWidget(button1)\n",
    "layout.addWidget(button2)\n",
    "layout.addWidget(button3)\n",
    "\n",
    "# 将布局设置为主窗口的布局\n",
    "window.setLayout(layout)\n",
    "\n",
    "# 显示主窗口\n",
    "window.show()\n",
    "\n",
    "# 获取主窗口的所有子控件\n",
    "children = window.children()\n",
    "\n",
    "# 打印子控件的类型和名称\n",
    "for child in children:\n",
    "    print(f\"Type: {type(child).__name__}, Object Name: {child.objectName()}\")\n",
    "\n",
    "# 运行应用程序\n",
    "app.exec()\n"
   ],
   "id": "965ec8f7c0a94650"
  },
  {
   "metadata": {},
   "cell_type": "code",
   "outputs": [],
   "execution_count": null,
   "source": "",
   "id": "20a6171327a9b1f"
  },
  {
   "metadata": {},
   "cell_type": "code",
   "outputs": [],
   "execution_count": null,
   "source": "",
   "id": "69e3c0f17fd697c3"
  }
 ],
 "metadata": {
  "kernelspec": {
   "display_name": "Python 3",
   "language": "python",
   "name": "python3"
  },
  "language_info": {
   "codemirror_mode": {
    "name": "ipython",
    "version": 2
   },
   "file_extension": ".py",
   "mimetype": "text/x-python",
   "name": "python",
   "nbconvert_exporter": "python",
   "pygments_lexer": "ipython2",
   "version": "2.7.6"
  }
 },
 "nbformat": 4,
 "nbformat_minor": 5
}
